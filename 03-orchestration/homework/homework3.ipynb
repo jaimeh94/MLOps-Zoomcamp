{
 "cells": [
  {
   "cell_type": "markdown",
   "id": "087db32e",
   "metadata": {},
   "source": [
    "# Homework 3: Orchestration with Prefect\n",
    "Questions [here](https://github.com/DataTalksClub/mlops-zoomcamp/blob/main/03-orchestration/homework.md)"
   ]
  },
  {
   "cell_type": "markdown",
   "id": "bf3c78f2",
   "metadata": {},
   "source": [
    "## Question 1. Converting the script to a Prefect flow\n",
    "\n",
    "We want to bring this to workflow orchestration to add observability around it. The main function will be converted to a flow and the other functions will be tasks. After adding all of the decorators, there is actually one task that you will need to call .result() for inside the flow to get it to work. Which task is this?\n",
    "\n",
    "### Answer 1.\n",
    "train_model"
   ]
  },
  {
   "cell_type": "markdown",
   "id": "4e6e0b89",
   "metadata": {},
   "source": [
    "## Question 2. Parameterizing the flow\n",
    "The validation MSE is:\n",
    "### Answer 2.\n",
    "11.637"
   ]
  },
  {
   "cell_type": "markdown",
   "id": "2301fffd",
   "metadata": {},
   "source": [
    "## Question 3. Saving the model and artifacts\n",
    "What is the file size of the DictVectorizer that we trained when the date is 2021-08-15?\n",
    "### Answer 3.\n",
    "13.000 bytes"
   ]
  },
  {
   "cell_type": "markdown",
   "id": "8e02173e",
   "metadata": {},
   "source": [
    "## Question 4. Creating a deployment with a CronSchedule\n",
    "What is the Cron expression to run a flow at 9 AM every 15th of the month?\n",
    "### Answer 4.\n",
    "0 9 15 * *"
   ]
  },
  {
   "cell_type": "markdown",
   "id": "3ad9a497",
   "metadata": {},
   "source": [
    "## Question 5. Viewing the Deployment\n",
    "How many flow runs are scheduled by Prefect in advance? You should not be counting manually. There is a number of upcoming runs on the top right of the dashboard.\n",
    "### Answer 5.\n",
    "3"
   ]
  },
  {
   "cell_type": "markdown",
   "id": "ccb7c762",
   "metadata": {},
   "source": [
    "## Question 6. Creating a work-queue\n",
    "What is the command to view the available work-queues?\n",
    "### Answer 6.\n",
    "prefect work-queue preview"
   ]
  }
 ],
 "metadata": {
  "kernelspec": {
   "display_name": "Python 3 (ipykernel)",
   "language": "python",
   "name": "python3"
  },
  "language_info": {
   "codemirror_mode": {
    "name": "ipython",
    "version": 3
   },
   "file_extension": ".py",
   "mimetype": "text/x-python",
   "name": "python",
   "nbconvert_exporter": "python",
   "pygments_lexer": "ipython3",
   "version": "3.10.4"
  }
 },
 "nbformat": 4,
 "nbformat_minor": 5
}
